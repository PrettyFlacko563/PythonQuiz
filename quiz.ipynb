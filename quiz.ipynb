{
 "cells": [
  {
   "cell_type": "code",
   "execution_count": 2,
   "id": "initial_id",
   "metadata": {
    "collapsed": true,
    "ExecuteTime": {
     "end_time": "2023-10-29T19:57:46.919799400Z",
     "start_time": "2023-10-29T19:57:46.457696600Z"
    }
   },
   "outputs": [],
   "source": [
    "import pandas as pd"
   ]
  },
  {
   "cell_type": "code",
   "execution_count": 4,
   "outputs": [],
   "source": [
    "data = pd.read_csv(\"palmerpenguins_original.csv\")\n",
    "df = pd.DataFrame(data)"
   ],
   "metadata": {
    "collapsed": false,
    "ExecuteTime": {
     "end_time": "2023-10-29T19:58:59.716825Z",
     "start_time": "2023-10-29T19:58:59.705822200Z"
    }
   },
   "id": "8a465e30dbec891e"
  },
  {
   "cell_type": "code",
   "execution_count": 5,
   "outputs": [
    {
     "data": {
      "text/plain": "       species     island  bill_length_mm  bill_depth_mm  flipper_length_mm  \\\n0       Adelie  Torgersen            39.1           18.7              181.0   \n1       Adelie  Torgersen            39.5           17.4              186.0   \n2       Adelie  Torgersen            40.3           18.0              195.0   \n3       Adelie  Torgersen             NaN            NaN                NaN   \n4       Adelie  Torgersen            36.7           19.3              193.0   \n..         ...        ...             ...            ...                ...   \n339  Chinstrap      Dream            55.8           19.8              207.0   \n340  Chinstrap      Dream            43.5           18.1              202.0   \n341  Chinstrap      Dream            49.6           18.2              193.0   \n342  Chinstrap      Dream            50.8           19.0              210.0   \n343  Chinstrap      Dream            50.2           18.7              198.0   \n\n     body_mass_g     sex  year  \n0         3750.0    male  2007  \n1         3800.0  female  2007  \n2         3250.0  female  2007  \n3            NaN     NaN  2007  \n4         3450.0  female  2007  \n..           ...     ...   ...  \n339       4000.0    male  2009  \n340       3400.0  female  2009  \n341       3775.0    male  2009  \n342       4100.0    male  2009  \n343       3775.0  female  2009  \n\n[344 rows x 8 columns]",
      "text/html": "<div>\n<style scoped>\n    .dataframe tbody tr th:only-of-type {\n        vertical-align: middle;\n    }\n\n    .dataframe tbody tr th {\n        vertical-align: top;\n    }\n\n    .dataframe thead th {\n        text-align: right;\n    }\n</style>\n<table border=\"1\" class=\"dataframe\">\n  <thead>\n    <tr style=\"text-align: right;\">\n      <th></th>\n      <th>species</th>\n      <th>island</th>\n      <th>bill_length_mm</th>\n      <th>bill_depth_mm</th>\n      <th>flipper_length_mm</th>\n      <th>body_mass_g</th>\n      <th>sex</th>\n      <th>year</th>\n    </tr>\n  </thead>\n  <tbody>\n    <tr>\n      <th>0</th>\n      <td>Adelie</td>\n      <td>Torgersen</td>\n      <td>39.1</td>\n      <td>18.7</td>\n      <td>181.0</td>\n      <td>3750.0</td>\n      <td>male</td>\n      <td>2007</td>\n    </tr>\n    <tr>\n      <th>1</th>\n      <td>Adelie</td>\n      <td>Torgersen</td>\n      <td>39.5</td>\n      <td>17.4</td>\n      <td>186.0</td>\n      <td>3800.0</td>\n      <td>female</td>\n      <td>2007</td>\n    </tr>\n    <tr>\n      <th>2</th>\n      <td>Adelie</td>\n      <td>Torgersen</td>\n      <td>40.3</td>\n      <td>18.0</td>\n      <td>195.0</td>\n      <td>3250.0</td>\n      <td>female</td>\n      <td>2007</td>\n    </tr>\n    <tr>\n      <th>3</th>\n      <td>Adelie</td>\n      <td>Torgersen</td>\n      <td>NaN</td>\n      <td>NaN</td>\n      <td>NaN</td>\n      <td>NaN</td>\n      <td>NaN</td>\n      <td>2007</td>\n    </tr>\n    <tr>\n      <th>4</th>\n      <td>Adelie</td>\n      <td>Torgersen</td>\n      <td>36.7</td>\n      <td>19.3</td>\n      <td>193.0</td>\n      <td>3450.0</td>\n      <td>female</td>\n      <td>2007</td>\n    </tr>\n    <tr>\n      <th>...</th>\n      <td>...</td>\n      <td>...</td>\n      <td>...</td>\n      <td>...</td>\n      <td>...</td>\n      <td>...</td>\n      <td>...</td>\n      <td>...</td>\n    </tr>\n    <tr>\n      <th>339</th>\n      <td>Chinstrap</td>\n      <td>Dream</td>\n      <td>55.8</td>\n      <td>19.8</td>\n      <td>207.0</td>\n      <td>4000.0</td>\n      <td>male</td>\n      <td>2009</td>\n    </tr>\n    <tr>\n      <th>340</th>\n      <td>Chinstrap</td>\n      <td>Dream</td>\n      <td>43.5</td>\n      <td>18.1</td>\n      <td>202.0</td>\n      <td>3400.0</td>\n      <td>female</td>\n      <td>2009</td>\n    </tr>\n    <tr>\n      <th>341</th>\n      <td>Chinstrap</td>\n      <td>Dream</td>\n      <td>49.6</td>\n      <td>18.2</td>\n      <td>193.0</td>\n      <td>3775.0</td>\n      <td>male</td>\n      <td>2009</td>\n    </tr>\n    <tr>\n      <th>342</th>\n      <td>Chinstrap</td>\n      <td>Dream</td>\n      <td>50.8</td>\n      <td>19.0</td>\n      <td>210.0</td>\n      <td>4100.0</td>\n      <td>male</td>\n      <td>2009</td>\n    </tr>\n    <tr>\n      <th>343</th>\n      <td>Chinstrap</td>\n      <td>Dream</td>\n      <td>50.2</td>\n      <td>18.7</td>\n      <td>198.0</td>\n      <td>3775.0</td>\n      <td>female</td>\n      <td>2009</td>\n    </tr>\n  </tbody>\n</table>\n<p>344 rows × 8 columns</p>\n</div>"
     },
     "execution_count": 5,
     "metadata": {},
     "output_type": "execute_result"
    }
   ],
   "source": [
    "df"
   ],
   "metadata": {
    "collapsed": false,
    "ExecuteTime": {
     "end_time": "2023-10-29T19:59:05.754273600Z",
     "start_time": "2023-10-29T19:59:05.624747600Z"
    }
   },
   "id": "214c8aeb7b7ba605"
  },
  {
   "cell_type": "code",
   "execution_count": 6,
   "outputs": [
    {
     "data": {
      "text/plain": "species                 Adelie\nisland               Torgersen\nbill_length_mm            39.1\nbill_depth_mm             18.7\nflipper_length_mm        181.0\nbody_mass_g             3750.0\nsex                       male\nyear                      2007\nName: 0, dtype: object"
     },
     "execution_count": 6,
     "metadata": {},
     "output_type": "execute_result"
    }
   ],
   "source": [
    "df.iloc[0]"
   ],
   "metadata": {
    "collapsed": false,
    "ExecuteTime": {
     "end_time": "2023-10-29T19:59:50.866713800Z",
     "start_time": "2023-10-29T19:59:50.842877900Z"
    }
   },
   "id": "9524caad1ca3986"
  },
  {
   "cell_type": "code",
   "execution_count": 7,
   "outputs": [
    {
     "data": {
      "text/plain": "0      Torgersen\n1      Torgersen\n2      Torgersen\n3      Torgersen\n4      Torgersen\n         ...    \n339        Dream\n340        Dream\n341        Dream\n342        Dream\n343        Dream\nName: island, Length: 344, dtype: object"
     },
     "execution_count": 7,
     "metadata": {},
     "output_type": "execute_result"
    }
   ],
   "source": [
    "df['island']"
   ],
   "metadata": {
    "collapsed": false,
    "ExecuteTime": {
     "end_time": "2023-10-29T20:02:02.251185300Z",
     "start_time": "2023-10-29T20:02:02.168031500Z"
    }
   },
   "id": "3455a452444edc78"
  },
  {
   "cell_type": "code",
   "execution_count": 8,
   "outputs": [
    {
     "data": {
      "text/plain": "        island  year\n0    Torgersen  2007\n1    Torgersen  2007\n2    Torgersen  2007\n3    Torgersen  2007\n4    Torgersen  2007\n..         ...   ...\n339      Dream  2009\n340      Dream  2009\n341      Dream  2009\n342      Dream  2009\n343      Dream  2009\n\n[344 rows x 2 columns]",
      "text/html": "<div>\n<style scoped>\n    .dataframe tbody tr th:only-of-type {\n        vertical-align: middle;\n    }\n\n    .dataframe tbody tr th {\n        vertical-align: top;\n    }\n\n    .dataframe thead th {\n        text-align: right;\n    }\n</style>\n<table border=\"1\" class=\"dataframe\">\n  <thead>\n    <tr style=\"text-align: right;\">\n      <th></th>\n      <th>island</th>\n      <th>year</th>\n    </tr>\n  </thead>\n  <tbody>\n    <tr>\n      <th>0</th>\n      <td>Torgersen</td>\n      <td>2007</td>\n    </tr>\n    <tr>\n      <th>1</th>\n      <td>Torgersen</td>\n      <td>2007</td>\n    </tr>\n    <tr>\n      <th>2</th>\n      <td>Torgersen</td>\n      <td>2007</td>\n    </tr>\n    <tr>\n      <th>3</th>\n      <td>Torgersen</td>\n      <td>2007</td>\n    </tr>\n    <tr>\n      <th>4</th>\n      <td>Torgersen</td>\n      <td>2007</td>\n    </tr>\n    <tr>\n      <th>...</th>\n      <td>...</td>\n      <td>...</td>\n    </tr>\n    <tr>\n      <th>339</th>\n      <td>Dream</td>\n      <td>2009</td>\n    </tr>\n    <tr>\n      <th>340</th>\n      <td>Dream</td>\n      <td>2009</td>\n    </tr>\n    <tr>\n      <th>341</th>\n      <td>Dream</td>\n      <td>2009</td>\n    </tr>\n    <tr>\n      <th>342</th>\n      <td>Dream</td>\n      <td>2009</td>\n    </tr>\n    <tr>\n      <th>343</th>\n      <td>Dream</td>\n      <td>2009</td>\n    </tr>\n  </tbody>\n</table>\n<p>344 rows × 2 columns</p>\n</div>"
     },
     "execution_count": 8,
     "metadata": {},
     "output_type": "execute_result"
    }
   ],
   "source": [
    "df[['island', 'year']]"
   ],
   "metadata": {
    "collapsed": false,
    "ExecuteTime": {
     "end_time": "2023-10-29T20:03:05.135958800Z",
     "start_time": "2023-10-29T20:03:05.000237900Z"
    }
   },
   "id": "89d6dbae0d01685e"
  },
  {
   "cell_type": "code",
   "execution_count": 9,
   "outputs": [
    {
     "data": {
      "text/plain": "          species     island  bill_length_mm  bill_depth_mm  \\\nsex                                                           \nmale       Adelie  Torgersen            39.1           18.7   \nfemale     Adelie  Torgersen            39.5           17.4   \nfemale     Adelie  Torgersen            40.3           18.0   \nNaN        Adelie  Torgersen             NaN            NaN   \nfemale     Adelie  Torgersen            36.7           19.3   \n...           ...        ...             ...            ...   \nmale    Chinstrap      Dream            55.8           19.8   \nfemale  Chinstrap      Dream            43.5           18.1   \nmale    Chinstrap      Dream            49.6           18.2   \nmale    Chinstrap      Dream            50.8           19.0   \nfemale  Chinstrap      Dream            50.2           18.7   \n\n        flipper_length_mm  body_mass_g  year  \nsex                                           \nmale                181.0       3750.0  2007  \nfemale              186.0       3800.0  2007  \nfemale              195.0       3250.0  2007  \nNaN                   NaN          NaN  2007  \nfemale              193.0       3450.0  2007  \n...                   ...          ...   ...  \nmale                207.0       4000.0  2009  \nfemale              202.0       3400.0  2009  \nmale                193.0       3775.0  2009  \nmale                210.0       4100.0  2009  \nfemale              198.0       3775.0  2009  \n\n[344 rows x 7 columns]",
      "text/html": "<div>\n<style scoped>\n    .dataframe tbody tr th:only-of-type {\n        vertical-align: middle;\n    }\n\n    .dataframe tbody tr th {\n        vertical-align: top;\n    }\n\n    .dataframe thead th {\n        text-align: right;\n    }\n</style>\n<table border=\"1\" class=\"dataframe\">\n  <thead>\n    <tr style=\"text-align: right;\">\n      <th></th>\n      <th>species</th>\n      <th>island</th>\n      <th>bill_length_mm</th>\n      <th>bill_depth_mm</th>\n      <th>flipper_length_mm</th>\n      <th>body_mass_g</th>\n      <th>year</th>\n    </tr>\n    <tr>\n      <th>sex</th>\n      <th></th>\n      <th></th>\n      <th></th>\n      <th></th>\n      <th></th>\n      <th></th>\n      <th></th>\n    </tr>\n  </thead>\n  <tbody>\n    <tr>\n      <th>male</th>\n      <td>Adelie</td>\n      <td>Torgersen</td>\n      <td>39.1</td>\n      <td>18.7</td>\n      <td>181.0</td>\n      <td>3750.0</td>\n      <td>2007</td>\n    </tr>\n    <tr>\n      <th>female</th>\n      <td>Adelie</td>\n      <td>Torgersen</td>\n      <td>39.5</td>\n      <td>17.4</td>\n      <td>186.0</td>\n      <td>3800.0</td>\n      <td>2007</td>\n    </tr>\n    <tr>\n      <th>female</th>\n      <td>Adelie</td>\n      <td>Torgersen</td>\n      <td>40.3</td>\n      <td>18.0</td>\n      <td>195.0</td>\n      <td>3250.0</td>\n      <td>2007</td>\n    </tr>\n    <tr>\n      <th>NaN</th>\n      <td>Adelie</td>\n      <td>Torgersen</td>\n      <td>NaN</td>\n      <td>NaN</td>\n      <td>NaN</td>\n      <td>NaN</td>\n      <td>2007</td>\n    </tr>\n    <tr>\n      <th>female</th>\n      <td>Adelie</td>\n      <td>Torgersen</td>\n      <td>36.7</td>\n      <td>19.3</td>\n      <td>193.0</td>\n      <td>3450.0</td>\n      <td>2007</td>\n    </tr>\n    <tr>\n      <th>...</th>\n      <td>...</td>\n      <td>...</td>\n      <td>...</td>\n      <td>...</td>\n      <td>...</td>\n      <td>...</td>\n      <td>...</td>\n    </tr>\n    <tr>\n      <th>male</th>\n      <td>Chinstrap</td>\n      <td>Dream</td>\n      <td>55.8</td>\n      <td>19.8</td>\n      <td>207.0</td>\n      <td>4000.0</td>\n      <td>2009</td>\n    </tr>\n    <tr>\n      <th>female</th>\n      <td>Chinstrap</td>\n      <td>Dream</td>\n      <td>43.5</td>\n      <td>18.1</td>\n      <td>202.0</td>\n      <td>3400.0</td>\n      <td>2009</td>\n    </tr>\n    <tr>\n      <th>male</th>\n      <td>Chinstrap</td>\n      <td>Dream</td>\n      <td>49.6</td>\n      <td>18.2</td>\n      <td>193.0</td>\n      <td>3775.0</td>\n      <td>2009</td>\n    </tr>\n    <tr>\n      <th>male</th>\n      <td>Chinstrap</td>\n      <td>Dream</td>\n      <td>50.8</td>\n      <td>19.0</td>\n      <td>210.0</td>\n      <td>4100.0</td>\n      <td>2009</td>\n    </tr>\n    <tr>\n      <th>female</th>\n      <td>Chinstrap</td>\n      <td>Dream</td>\n      <td>50.2</td>\n      <td>18.7</td>\n      <td>198.0</td>\n      <td>3775.0</td>\n      <td>2009</td>\n    </tr>\n  </tbody>\n</table>\n<p>344 rows × 7 columns</p>\n</div>"
     },
     "execution_count": 9,
     "metadata": {},
     "output_type": "execute_result"
    }
   ],
   "source": [
    "data.set_index('sex')"
   ],
   "metadata": {
    "collapsed": false,
    "ExecuteTime": {
     "end_time": "2023-10-29T20:04:17.516483900Z",
     "start_time": "2023-10-29T20:04:17.424493600Z"
    }
   },
   "id": "ee717a2d692f0f7c"
  },
  {
   "cell_type": "code",
   "execution_count": 28,
   "outputs": [],
   "source": [
    "filter_NAN_Is_Not_Above_2007 = (data['species'] == 'Adelie') & (data['island'] != 'Biscoe')\n",
    "\n",
    "filter_NAN_Is_Above_2007 = (data['species'] == 'Adelie') & (data['island'] == 'Biscoe')"
   ],
   "metadata": {
    "collapsed": false,
    "ExecuteTime": {
     "end_time": "2023-10-29T20:32:30.470421700Z",
     "start_time": "2023-10-29T20:32:30.436405300Z"
    }
   },
   "id": "6344831a28a6a710"
  },
  {
   "cell_type": "code",
   "execution_count": 29,
   "outputs": [
    {
     "data": {
      "text/plain": "    species     island  bill_length_mm  bill_depth_mm  flipper_length_mm  \\\n0    Adelie  Torgersen            39.1           18.7              181.0   \n1    Adelie  Torgersen            39.5           17.4              186.0   \n2    Adelie  Torgersen            40.3           18.0              195.0   \n3    Adelie  Torgersen             NaN            NaN                NaN   \n4    Adelie  Torgersen            36.7           19.3              193.0   \n..      ...        ...             ...            ...                ...   \n147  Adelie      Dream            36.6           18.4              184.0   \n148  Adelie      Dream            36.0           17.8              195.0   \n149  Adelie      Dream            37.8           18.1              193.0   \n150  Adelie      Dream            36.0           17.1              187.0   \n151  Adelie      Dream            41.5           18.5              201.0   \n\n     body_mass_g     sex  year  \n0         3750.0    male  2007  \n1         3800.0  female  2007  \n2         3250.0  female  2007  \n3            NaN     NaN  2007  \n4         3450.0  female  2007  \n..           ...     ...   ...  \n147       3475.0  female  2009  \n148       3450.0  female  2009  \n149       3750.0    male  2009  \n150       3700.0  female  2009  \n151       4000.0    male  2009  \n\n[108 rows x 8 columns]",
      "text/html": "<div>\n<style scoped>\n    .dataframe tbody tr th:only-of-type {\n        vertical-align: middle;\n    }\n\n    .dataframe tbody tr th {\n        vertical-align: top;\n    }\n\n    .dataframe thead th {\n        text-align: right;\n    }\n</style>\n<table border=\"1\" class=\"dataframe\">\n  <thead>\n    <tr style=\"text-align: right;\">\n      <th></th>\n      <th>species</th>\n      <th>island</th>\n      <th>bill_length_mm</th>\n      <th>bill_depth_mm</th>\n      <th>flipper_length_mm</th>\n      <th>body_mass_g</th>\n      <th>sex</th>\n      <th>year</th>\n    </tr>\n  </thead>\n  <tbody>\n    <tr>\n      <th>0</th>\n      <td>Adelie</td>\n      <td>Torgersen</td>\n      <td>39.1</td>\n      <td>18.7</td>\n      <td>181.0</td>\n      <td>3750.0</td>\n      <td>male</td>\n      <td>2007</td>\n    </tr>\n    <tr>\n      <th>1</th>\n      <td>Adelie</td>\n      <td>Torgersen</td>\n      <td>39.5</td>\n      <td>17.4</td>\n      <td>186.0</td>\n      <td>3800.0</td>\n      <td>female</td>\n      <td>2007</td>\n    </tr>\n    <tr>\n      <th>2</th>\n      <td>Adelie</td>\n      <td>Torgersen</td>\n      <td>40.3</td>\n      <td>18.0</td>\n      <td>195.0</td>\n      <td>3250.0</td>\n      <td>female</td>\n      <td>2007</td>\n    </tr>\n    <tr>\n      <th>3</th>\n      <td>Adelie</td>\n      <td>Torgersen</td>\n      <td>NaN</td>\n      <td>NaN</td>\n      <td>NaN</td>\n      <td>NaN</td>\n      <td>NaN</td>\n      <td>2007</td>\n    </tr>\n    <tr>\n      <th>4</th>\n      <td>Adelie</td>\n      <td>Torgersen</td>\n      <td>36.7</td>\n      <td>19.3</td>\n      <td>193.0</td>\n      <td>3450.0</td>\n      <td>female</td>\n      <td>2007</td>\n    </tr>\n    <tr>\n      <th>...</th>\n      <td>...</td>\n      <td>...</td>\n      <td>...</td>\n      <td>...</td>\n      <td>...</td>\n      <td>...</td>\n      <td>...</td>\n      <td>...</td>\n    </tr>\n    <tr>\n      <th>147</th>\n      <td>Adelie</td>\n      <td>Dream</td>\n      <td>36.6</td>\n      <td>18.4</td>\n      <td>184.0</td>\n      <td>3475.0</td>\n      <td>female</td>\n      <td>2009</td>\n    </tr>\n    <tr>\n      <th>148</th>\n      <td>Adelie</td>\n      <td>Dream</td>\n      <td>36.0</td>\n      <td>17.8</td>\n      <td>195.0</td>\n      <td>3450.0</td>\n      <td>female</td>\n      <td>2009</td>\n    </tr>\n    <tr>\n      <th>149</th>\n      <td>Adelie</td>\n      <td>Dream</td>\n      <td>37.8</td>\n      <td>18.1</td>\n      <td>193.0</td>\n      <td>3750.0</td>\n      <td>male</td>\n      <td>2009</td>\n    </tr>\n    <tr>\n      <th>150</th>\n      <td>Adelie</td>\n      <td>Dream</td>\n      <td>36.0</td>\n      <td>17.1</td>\n      <td>187.0</td>\n      <td>3700.0</td>\n      <td>female</td>\n      <td>2009</td>\n    </tr>\n    <tr>\n      <th>151</th>\n      <td>Adelie</td>\n      <td>Dream</td>\n      <td>41.5</td>\n      <td>18.5</td>\n      <td>201.0</td>\n      <td>4000.0</td>\n      <td>male</td>\n      <td>2009</td>\n    </tr>\n  </tbody>\n</table>\n<p>108 rows × 8 columns</p>\n</div>"
     },
     "execution_count": 29,
     "metadata": {},
     "output_type": "execute_result"
    }
   ],
   "source": [
    "df.loc[filter_NAN_Is_Not_Above_2007]\n"
   ],
   "metadata": {
    "collapsed": false,
    "ExecuteTime": {
     "end_time": "2023-10-29T20:32:33.698710800Z",
     "start_time": "2023-10-29T20:32:33.666643300Z"
    }
   },
   "id": "b735c18d4becabdb"
  },
  {
   "cell_type": "code",
   "execution_count": 30,
   "outputs": [
    {
     "data": {
      "text/plain": "    species  island  bill_length_mm  bill_depth_mm  flipper_length_mm  \\\n20   Adelie  Biscoe            37.8           18.3              174.0   \n21   Adelie  Biscoe            37.7           18.7              180.0   \n22   Adelie  Biscoe            35.9           19.2              189.0   \n23   Adelie  Biscoe            38.2           18.1              185.0   \n24   Adelie  Biscoe            38.8           17.2              180.0   \n25   Adelie  Biscoe            35.3           18.9              187.0   \n26   Adelie  Biscoe            40.6           18.6              183.0   \n27   Adelie  Biscoe            40.5           17.9              187.0   \n28   Adelie  Biscoe            37.9           18.6              172.0   \n29   Adelie  Biscoe            40.5           18.9              180.0   \n50   Adelie  Biscoe            39.6           17.7              186.0   \n51   Adelie  Biscoe            40.1           18.9              188.0   \n52   Adelie  Biscoe            35.0           17.9              190.0   \n53   Adelie  Biscoe            42.0           19.5              200.0   \n54   Adelie  Biscoe            34.5           18.1              187.0   \n55   Adelie  Biscoe            41.4           18.6              191.0   \n56   Adelie  Biscoe            39.0           17.5              186.0   \n57   Adelie  Biscoe            40.6           18.8              193.0   \n58   Adelie  Biscoe            36.5           16.6              181.0   \n59   Adelie  Biscoe            37.6           19.1              194.0   \n60   Adelie  Biscoe            35.7           16.9              185.0   \n61   Adelie  Biscoe            41.3           21.1              195.0   \n62   Adelie  Biscoe            37.6           17.0              185.0   \n63   Adelie  Biscoe            41.1           18.2              192.0   \n64   Adelie  Biscoe            36.4           17.1              184.0   \n65   Adelie  Biscoe            41.6           18.0              192.0   \n66   Adelie  Biscoe            35.5           16.2              195.0   \n67   Adelie  Biscoe            41.1           19.1              188.0   \n100  Adelie  Biscoe            35.0           17.9              192.0   \n101  Adelie  Biscoe            41.0           20.0              203.0   \n102  Adelie  Biscoe            37.7           16.0              183.0   \n103  Adelie  Biscoe            37.8           20.0              190.0   \n104  Adelie  Biscoe            37.9           18.6              193.0   \n105  Adelie  Biscoe            39.7           18.9              184.0   \n106  Adelie  Biscoe            38.6           17.2              199.0   \n107  Adelie  Biscoe            38.2           20.0              190.0   \n108  Adelie  Biscoe            38.1           17.0              181.0   \n109  Adelie  Biscoe            43.2           19.0              197.0   \n110  Adelie  Biscoe            38.1           16.5              198.0   \n111  Adelie  Biscoe            45.6           20.3              191.0   \n112  Adelie  Biscoe            39.7           17.7              193.0   \n113  Adelie  Biscoe            42.2           19.5              197.0   \n114  Adelie  Biscoe            39.6           20.7              191.0   \n115  Adelie  Biscoe            42.7           18.3              196.0   \n\n     body_mass_g     sex  year  \n20        3400.0  female  2007  \n21        3600.0    male  2007  \n22        3800.0  female  2007  \n23        3950.0    male  2007  \n24        3800.0    male  2007  \n25        3800.0  female  2007  \n26        3550.0    male  2007  \n27        3200.0  female  2007  \n28        3150.0  female  2007  \n29        3950.0    male  2007  \n50        3500.0  female  2008  \n51        4300.0    male  2008  \n52        3450.0  female  2008  \n53        4050.0    male  2008  \n54        2900.0  female  2008  \n55        3700.0    male  2008  \n56        3550.0  female  2008  \n57        3800.0    male  2008  \n58        2850.0  female  2008  \n59        3750.0    male  2008  \n60        3150.0  female  2008  \n61        4400.0    male  2008  \n62        3600.0  female  2008  \n63        4050.0    male  2008  \n64        2850.0  female  2008  \n65        3950.0    male  2008  \n66        3350.0  female  2008  \n67        4100.0    male  2008  \n100       3725.0  female  2009  \n101       4725.0    male  2009  \n102       3075.0  female  2009  \n103       4250.0    male  2009  \n104       2925.0  female  2009  \n105       3550.0    male  2009  \n106       3750.0  female  2009  \n107       3900.0    male  2009  \n108       3175.0  female  2009  \n109       4775.0    male  2009  \n110       3825.0  female  2009  \n111       4600.0    male  2009  \n112       3200.0  female  2009  \n113       4275.0    male  2009  \n114       3900.0  female  2009  \n115       4075.0    male  2009  ",
      "text/html": "<div>\n<style scoped>\n    .dataframe tbody tr th:only-of-type {\n        vertical-align: middle;\n    }\n\n    .dataframe tbody tr th {\n        vertical-align: top;\n    }\n\n    .dataframe thead th {\n        text-align: right;\n    }\n</style>\n<table border=\"1\" class=\"dataframe\">\n  <thead>\n    <tr style=\"text-align: right;\">\n      <th></th>\n      <th>species</th>\n      <th>island</th>\n      <th>bill_length_mm</th>\n      <th>bill_depth_mm</th>\n      <th>flipper_length_mm</th>\n      <th>body_mass_g</th>\n      <th>sex</th>\n      <th>year</th>\n    </tr>\n  </thead>\n  <tbody>\n    <tr>\n      <th>20</th>\n      <td>Adelie</td>\n      <td>Biscoe</td>\n      <td>37.8</td>\n      <td>18.3</td>\n      <td>174.0</td>\n      <td>3400.0</td>\n      <td>female</td>\n      <td>2007</td>\n    </tr>\n    <tr>\n      <th>21</th>\n      <td>Adelie</td>\n      <td>Biscoe</td>\n      <td>37.7</td>\n      <td>18.7</td>\n      <td>180.0</td>\n      <td>3600.0</td>\n      <td>male</td>\n      <td>2007</td>\n    </tr>\n    <tr>\n      <th>22</th>\n      <td>Adelie</td>\n      <td>Biscoe</td>\n      <td>35.9</td>\n      <td>19.2</td>\n      <td>189.0</td>\n      <td>3800.0</td>\n      <td>female</td>\n      <td>2007</td>\n    </tr>\n    <tr>\n      <th>23</th>\n      <td>Adelie</td>\n      <td>Biscoe</td>\n      <td>38.2</td>\n      <td>18.1</td>\n      <td>185.0</td>\n      <td>3950.0</td>\n      <td>male</td>\n      <td>2007</td>\n    </tr>\n    <tr>\n      <th>24</th>\n      <td>Adelie</td>\n      <td>Biscoe</td>\n      <td>38.8</td>\n      <td>17.2</td>\n      <td>180.0</td>\n      <td>3800.0</td>\n      <td>male</td>\n      <td>2007</td>\n    </tr>\n    <tr>\n      <th>25</th>\n      <td>Adelie</td>\n      <td>Biscoe</td>\n      <td>35.3</td>\n      <td>18.9</td>\n      <td>187.0</td>\n      <td>3800.0</td>\n      <td>female</td>\n      <td>2007</td>\n    </tr>\n    <tr>\n      <th>26</th>\n      <td>Adelie</td>\n      <td>Biscoe</td>\n      <td>40.6</td>\n      <td>18.6</td>\n      <td>183.0</td>\n      <td>3550.0</td>\n      <td>male</td>\n      <td>2007</td>\n    </tr>\n    <tr>\n      <th>27</th>\n      <td>Adelie</td>\n      <td>Biscoe</td>\n      <td>40.5</td>\n      <td>17.9</td>\n      <td>187.0</td>\n      <td>3200.0</td>\n      <td>female</td>\n      <td>2007</td>\n    </tr>\n    <tr>\n      <th>28</th>\n      <td>Adelie</td>\n      <td>Biscoe</td>\n      <td>37.9</td>\n      <td>18.6</td>\n      <td>172.0</td>\n      <td>3150.0</td>\n      <td>female</td>\n      <td>2007</td>\n    </tr>\n    <tr>\n      <th>29</th>\n      <td>Adelie</td>\n      <td>Biscoe</td>\n      <td>40.5</td>\n      <td>18.9</td>\n      <td>180.0</td>\n      <td>3950.0</td>\n      <td>male</td>\n      <td>2007</td>\n    </tr>\n    <tr>\n      <th>50</th>\n      <td>Adelie</td>\n      <td>Biscoe</td>\n      <td>39.6</td>\n      <td>17.7</td>\n      <td>186.0</td>\n      <td>3500.0</td>\n      <td>female</td>\n      <td>2008</td>\n    </tr>\n    <tr>\n      <th>51</th>\n      <td>Adelie</td>\n      <td>Biscoe</td>\n      <td>40.1</td>\n      <td>18.9</td>\n      <td>188.0</td>\n      <td>4300.0</td>\n      <td>male</td>\n      <td>2008</td>\n    </tr>\n    <tr>\n      <th>52</th>\n      <td>Adelie</td>\n      <td>Biscoe</td>\n      <td>35.0</td>\n      <td>17.9</td>\n      <td>190.0</td>\n      <td>3450.0</td>\n      <td>female</td>\n      <td>2008</td>\n    </tr>\n    <tr>\n      <th>53</th>\n      <td>Adelie</td>\n      <td>Biscoe</td>\n      <td>42.0</td>\n      <td>19.5</td>\n      <td>200.0</td>\n      <td>4050.0</td>\n      <td>male</td>\n      <td>2008</td>\n    </tr>\n    <tr>\n      <th>54</th>\n      <td>Adelie</td>\n      <td>Biscoe</td>\n      <td>34.5</td>\n      <td>18.1</td>\n      <td>187.0</td>\n      <td>2900.0</td>\n      <td>female</td>\n      <td>2008</td>\n    </tr>\n    <tr>\n      <th>55</th>\n      <td>Adelie</td>\n      <td>Biscoe</td>\n      <td>41.4</td>\n      <td>18.6</td>\n      <td>191.0</td>\n      <td>3700.0</td>\n      <td>male</td>\n      <td>2008</td>\n    </tr>\n    <tr>\n      <th>56</th>\n      <td>Adelie</td>\n      <td>Biscoe</td>\n      <td>39.0</td>\n      <td>17.5</td>\n      <td>186.0</td>\n      <td>3550.0</td>\n      <td>female</td>\n      <td>2008</td>\n    </tr>\n    <tr>\n      <th>57</th>\n      <td>Adelie</td>\n      <td>Biscoe</td>\n      <td>40.6</td>\n      <td>18.8</td>\n      <td>193.0</td>\n      <td>3800.0</td>\n      <td>male</td>\n      <td>2008</td>\n    </tr>\n    <tr>\n      <th>58</th>\n      <td>Adelie</td>\n      <td>Biscoe</td>\n      <td>36.5</td>\n      <td>16.6</td>\n      <td>181.0</td>\n      <td>2850.0</td>\n      <td>female</td>\n      <td>2008</td>\n    </tr>\n    <tr>\n      <th>59</th>\n      <td>Adelie</td>\n      <td>Biscoe</td>\n      <td>37.6</td>\n      <td>19.1</td>\n      <td>194.0</td>\n      <td>3750.0</td>\n      <td>male</td>\n      <td>2008</td>\n    </tr>\n    <tr>\n      <th>60</th>\n      <td>Adelie</td>\n      <td>Biscoe</td>\n      <td>35.7</td>\n      <td>16.9</td>\n      <td>185.0</td>\n      <td>3150.0</td>\n      <td>female</td>\n      <td>2008</td>\n    </tr>\n    <tr>\n      <th>61</th>\n      <td>Adelie</td>\n      <td>Biscoe</td>\n      <td>41.3</td>\n      <td>21.1</td>\n      <td>195.0</td>\n      <td>4400.0</td>\n      <td>male</td>\n      <td>2008</td>\n    </tr>\n    <tr>\n      <th>62</th>\n      <td>Adelie</td>\n      <td>Biscoe</td>\n      <td>37.6</td>\n      <td>17.0</td>\n      <td>185.0</td>\n      <td>3600.0</td>\n      <td>female</td>\n      <td>2008</td>\n    </tr>\n    <tr>\n      <th>63</th>\n      <td>Adelie</td>\n      <td>Biscoe</td>\n      <td>41.1</td>\n      <td>18.2</td>\n      <td>192.0</td>\n      <td>4050.0</td>\n      <td>male</td>\n      <td>2008</td>\n    </tr>\n    <tr>\n      <th>64</th>\n      <td>Adelie</td>\n      <td>Biscoe</td>\n      <td>36.4</td>\n      <td>17.1</td>\n      <td>184.0</td>\n      <td>2850.0</td>\n      <td>female</td>\n      <td>2008</td>\n    </tr>\n    <tr>\n      <th>65</th>\n      <td>Adelie</td>\n      <td>Biscoe</td>\n      <td>41.6</td>\n      <td>18.0</td>\n      <td>192.0</td>\n      <td>3950.0</td>\n      <td>male</td>\n      <td>2008</td>\n    </tr>\n    <tr>\n      <th>66</th>\n      <td>Adelie</td>\n      <td>Biscoe</td>\n      <td>35.5</td>\n      <td>16.2</td>\n      <td>195.0</td>\n      <td>3350.0</td>\n      <td>female</td>\n      <td>2008</td>\n    </tr>\n    <tr>\n      <th>67</th>\n      <td>Adelie</td>\n      <td>Biscoe</td>\n      <td>41.1</td>\n      <td>19.1</td>\n      <td>188.0</td>\n      <td>4100.0</td>\n      <td>male</td>\n      <td>2008</td>\n    </tr>\n    <tr>\n      <th>100</th>\n      <td>Adelie</td>\n      <td>Biscoe</td>\n      <td>35.0</td>\n      <td>17.9</td>\n      <td>192.0</td>\n      <td>3725.0</td>\n      <td>female</td>\n      <td>2009</td>\n    </tr>\n    <tr>\n      <th>101</th>\n      <td>Adelie</td>\n      <td>Biscoe</td>\n      <td>41.0</td>\n      <td>20.0</td>\n      <td>203.0</td>\n      <td>4725.0</td>\n      <td>male</td>\n      <td>2009</td>\n    </tr>\n    <tr>\n      <th>102</th>\n      <td>Adelie</td>\n      <td>Biscoe</td>\n      <td>37.7</td>\n      <td>16.0</td>\n      <td>183.0</td>\n      <td>3075.0</td>\n      <td>female</td>\n      <td>2009</td>\n    </tr>\n    <tr>\n      <th>103</th>\n      <td>Adelie</td>\n      <td>Biscoe</td>\n      <td>37.8</td>\n      <td>20.0</td>\n      <td>190.0</td>\n      <td>4250.0</td>\n      <td>male</td>\n      <td>2009</td>\n    </tr>\n    <tr>\n      <th>104</th>\n      <td>Adelie</td>\n      <td>Biscoe</td>\n      <td>37.9</td>\n      <td>18.6</td>\n      <td>193.0</td>\n      <td>2925.0</td>\n      <td>female</td>\n      <td>2009</td>\n    </tr>\n    <tr>\n      <th>105</th>\n      <td>Adelie</td>\n      <td>Biscoe</td>\n      <td>39.7</td>\n      <td>18.9</td>\n      <td>184.0</td>\n      <td>3550.0</td>\n      <td>male</td>\n      <td>2009</td>\n    </tr>\n    <tr>\n      <th>106</th>\n      <td>Adelie</td>\n      <td>Biscoe</td>\n      <td>38.6</td>\n      <td>17.2</td>\n      <td>199.0</td>\n      <td>3750.0</td>\n      <td>female</td>\n      <td>2009</td>\n    </tr>\n    <tr>\n      <th>107</th>\n      <td>Adelie</td>\n      <td>Biscoe</td>\n      <td>38.2</td>\n      <td>20.0</td>\n      <td>190.0</td>\n      <td>3900.0</td>\n      <td>male</td>\n      <td>2009</td>\n    </tr>\n    <tr>\n      <th>108</th>\n      <td>Adelie</td>\n      <td>Biscoe</td>\n      <td>38.1</td>\n      <td>17.0</td>\n      <td>181.0</td>\n      <td>3175.0</td>\n      <td>female</td>\n      <td>2009</td>\n    </tr>\n    <tr>\n      <th>109</th>\n      <td>Adelie</td>\n      <td>Biscoe</td>\n      <td>43.2</td>\n      <td>19.0</td>\n      <td>197.0</td>\n      <td>4775.0</td>\n      <td>male</td>\n      <td>2009</td>\n    </tr>\n    <tr>\n      <th>110</th>\n      <td>Adelie</td>\n      <td>Biscoe</td>\n      <td>38.1</td>\n      <td>16.5</td>\n      <td>198.0</td>\n      <td>3825.0</td>\n      <td>female</td>\n      <td>2009</td>\n    </tr>\n    <tr>\n      <th>111</th>\n      <td>Adelie</td>\n      <td>Biscoe</td>\n      <td>45.6</td>\n      <td>20.3</td>\n      <td>191.0</td>\n      <td>4600.0</td>\n      <td>male</td>\n      <td>2009</td>\n    </tr>\n    <tr>\n      <th>112</th>\n      <td>Adelie</td>\n      <td>Biscoe</td>\n      <td>39.7</td>\n      <td>17.7</td>\n      <td>193.0</td>\n      <td>3200.0</td>\n      <td>female</td>\n      <td>2009</td>\n    </tr>\n    <tr>\n      <th>113</th>\n      <td>Adelie</td>\n      <td>Biscoe</td>\n      <td>42.2</td>\n      <td>19.5</td>\n      <td>197.0</td>\n      <td>4275.0</td>\n      <td>male</td>\n      <td>2009</td>\n    </tr>\n    <tr>\n      <th>114</th>\n      <td>Adelie</td>\n      <td>Biscoe</td>\n      <td>39.6</td>\n      <td>20.7</td>\n      <td>191.0</td>\n      <td>3900.0</td>\n      <td>female</td>\n      <td>2009</td>\n    </tr>\n    <tr>\n      <th>115</th>\n      <td>Adelie</td>\n      <td>Biscoe</td>\n      <td>42.7</td>\n      <td>18.3</td>\n      <td>196.0</td>\n      <td>4075.0</td>\n      <td>male</td>\n      <td>2009</td>\n    </tr>\n  </tbody>\n</table>\n</div>"
     },
     "execution_count": 30,
     "metadata": {},
     "output_type": "execute_result"
    }
   ],
   "source": [
    "df.loc[filter_NAN_Is_Above_2007]"
   ],
   "metadata": {
    "collapsed": false,
    "ExecuteTime": {
     "end_time": "2023-10-29T20:32:53.366679500Z",
     "start_time": "2023-10-29T20:32:53.338673900Z"
    }
   },
   "id": "c24203b7a165e6fa"
  },
  {
   "cell_type": "code",
   "execution_count": 31,
   "outputs": [
    {
     "data": {
      "text/plain": "    species     island  bill_length_mm  bill_depth_mm  flipper_length_mm  \\\n176  Gentoo     Biscoe            42.9           13.1              215.0   \n152  Gentoo     Biscoe            46.1           13.2              211.0   \n200  Gentoo     Biscoe            44.9           13.3              213.0   \n160  Gentoo     Biscoe            43.3           13.4              209.0   \n157  Gentoo     Biscoe            46.5           13.5              210.0   \n..      ...        ...             ...            ...                ...   \n13   Adelie  Torgersen            38.6           21.2              191.0   \n49   Adelie      Dream            42.3           21.2              191.0   \n19   Adelie  Torgersen            46.0           21.5              194.0   \n3    Adelie  Torgersen             NaN            NaN                NaN   \n271  Gentoo     Biscoe             NaN            NaN                NaN   \n\n     body_mass_g     sex  year  \n176       5000.0  female  2007  \n152       4500.0  female  2007  \n200       5100.0  female  2008  \n160       4400.0  female  2007  \n157       4550.0  female  2007  \n..           ...     ...   ...  \n13        3800.0    male  2007  \n49        4150.0    male  2007  \n19        4200.0    male  2007  \n3            NaN     NaN  2007  \n271          NaN     NaN  2009  \n\n[344 rows x 8 columns]",
      "text/html": "<div>\n<style scoped>\n    .dataframe tbody tr th:only-of-type {\n        vertical-align: middle;\n    }\n\n    .dataframe tbody tr th {\n        vertical-align: top;\n    }\n\n    .dataframe thead th {\n        text-align: right;\n    }\n</style>\n<table border=\"1\" class=\"dataframe\">\n  <thead>\n    <tr style=\"text-align: right;\">\n      <th></th>\n      <th>species</th>\n      <th>island</th>\n      <th>bill_length_mm</th>\n      <th>bill_depth_mm</th>\n      <th>flipper_length_mm</th>\n      <th>body_mass_g</th>\n      <th>sex</th>\n      <th>year</th>\n    </tr>\n  </thead>\n  <tbody>\n    <tr>\n      <th>176</th>\n      <td>Gentoo</td>\n      <td>Biscoe</td>\n      <td>42.9</td>\n      <td>13.1</td>\n      <td>215.0</td>\n      <td>5000.0</td>\n      <td>female</td>\n      <td>2007</td>\n    </tr>\n    <tr>\n      <th>152</th>\n      <td>Gentoo</td>\n      <td>Biscoe</td>\n      <td>46.1</td>\n      <td>13.2</td>\n      <td>211.0</td>\n      <td>4500.0</td>\n      <td>female</td>\n      <td>2007</td>\n    </tr>\n    <tr>\n      <th>200</th>\n      <td>Gentoo</td>\n      <td>Biscoe</td>\n      <td>44.9</td>\n      <td>13.3</td>\n      <td>213.0</td>\n      <td>5100.0</td>\n      <td>female</td>\n      <td>2008</td>\n    </tr>\n    <tr>\n      <th>160</th>\n      <td>Gentoo</td>\n      <td>Biscoe</td>\n      <td>43.3</td>\n      <td>13.4</td>\n      <td>209.0</td>\n      <td>4400.0</td>\n      <td>female</td>\n      <td>2007</td>\n    </tr>\n    <tr>\n      <th>157</th>\n      <td>Gentoo</td>\n      <td>Biscoe</td>\n      <td>46.5</td>\n      <td>13.5</td>\n      <td>210.0</td>\n      <td>4550.0</td>\n      <td>female</td>\n      <td>2007</td>\n    </tr>\n    <tr>\n      <th>...</th>\n      <td>...</td>\n      <td>...</td>\n      <td>...</td>\n      <td>...</td>\n      <td>...</td>\n      <td>...</td>\n      <td>...</td>\n      <td>...</td>\n    </tr>\n    <tr>\n      <th>13</th>\n      <td>Adelie</td>\n      <td>Torgersen</td>\n      <td>38.6</td>\n      <td>21.2</td>\n      <td>191.0</td>\n      <td>3800.0</td>\n      <td>male</td>\n      <td>2007</td>\n    </tr>\n    <tr>\n      <th>49</th>\n      <td>Adelie</td>\n      <td>Dream</td>\n      <td>42.3</td>\n      <td>21.2</td>\n      <td>191.0</td>\n      <td>4150.0</td>\n      <td>male</td>\n      <td>2007</td>\n    </tr>\n    <tr>\n      <th>19</th>\n      <td>Adelie</td>\n      <td>Torgersen</td>\n      <td>46.0</td>\n      <td>21.5</td>\n      <td>194.0</td>\n      <td>4200.0</td>\n      <td>male</td>\n      <td>2007</td>\n    </tr>\n    <tr>\n      <th>3</th>\n      <td>Adelie</td>\n      <td>Torgersen</td>\n      <td>NaN</td>\n      <td>NaN</td>\n      <td>NaN</td>\n      <td>NaN</td>\n      <td>NaN</td>\n      <td>2007</td>\n    </tr>\n    <tr>\n      <th>271</th>\n      <td>Gentoo</td>\n      <td>Biscoe</td>\n      <td>NaN</td>\n      <td>NaN</td>\n      <td>NaN</td>\n      <td>NaN</td>\n      <td>NaN</td>\n      <td>2009</td>\n    </tr>\n  </tbody>\n</table>\n<p>344 rows × 8 columns</p>\n</div>"
     },
     "execution_count": 31,
     "metadata": {},
     "output_type": "execute_result"
    }
   ],
   "source": [
    "df.sort_values(by= ['bill_depth_mm', 'flipper_length_mm'], ascending= True)"
   ],
   "metadata": {
    "collapsed": false,
    "ExecuteTime": {
     "end_time": "2023-10-29T20:33:24.576274Z",
     "start_time": "2023-10-29T20:33:24.556263300Z"
    }
   },
   "id": "df66641a0e359b89"
  },
  {
   "cell_type": "code",
   "execution_count": 32,
   "outputs": [
    {
     "data": {
      "text/plain": "18.33644859813084"
     },
     "execution_count": 32,
     "metadata": {},
     "output_type": "execute_result"
    }
   ],
   "source": [
    "speciesMean = df.loc[filter_NAN_Is_Not_Above_2007, 'bill_depth_mm'].mean()\n",
    "speciesMean"
   ],
   "metadata": {
    "collapsed": false,
    "ExecuteTime": {
     "end_time": "2023-10-29T20:35:23.671778200Z",
     "start_time": "2023-10-29T20:35:23.644773100Z"
    }
   },
   "id": "dcfb4632dc546588"
  },
  {
   "cell_type": "code",
   "execution_count": 33,
   "outputs": [
    {
     "data": {
      "text/plain": "18.370454545454546"
     },
     "execution_count": 33,
     "metadata": {},
     "output_type": "execute_result"
    }
   ],
   "source": [
    "speciesMean = df.loc[filter_NAN_Is_Above_2007, 'bill_depth_mm'].mean()\n",
    "speciesMean"
   ],
   "metadata": {
    "collapsed": false,
    "ExecuteTime": {
     "end_time": "2023-10-29T20:36:13.453225800Z",
     "start_time": "2023-10-29T20:36:13.427222600Z"
    }
   },
   "id": "1b6464c872653db0"
  },
  {
   "cell_type": "code",
   "execution_count": 35,
   "outputs": [
    {
     "data": {
      "text/plain": "15.5"
     },
     "execution_count": 35,
     "metadata": {},
     "output_type": "execute_result"
    }
   ],
   "source": [
    "speciesMin =  df.loc[filter_NAN_Is_Not_Above_2007, 'bill_depth_mm'].min()\n",
    "speciesMin"
   ],
   "metadata": {
    "collapsed": false,
    "ExecuteTime": {
     "end_time": "2023-10-29T20:37:34.311992500Z",
     "start_time": "2023-10-29T20:37:34.284148300Z"
    }
   },
   "id": "fa20a9132400486a"
  },
  {
   "cell_type": "code",
   "execution_count": 36,
   "outputs": [
    {
     "data": {
      "text/plain": "16.0"
     },
     "execution_count": 36,
     "metadata": {},
     "output_type": "execute_result"
    }
   ],
   "source": [
    "speciesMin =  df.loc[filter_NAN_Is_Above_2007, 'bill_depth_mm'].min()\n",
    "speciesMin"
   ],
   "metadata": {
    "collapsed": false,
    "ExecuteTime": {
     "end_time": "2023-10-29T20:37:59.163966700Z",
     "start_time": "2023-10-29T20:37:59.139962100Z"
    }
   },
   "id": "6ec3b8911cb1424b"
  },
  {
   "cell_type": "code",
   "execution_count": 37,
   "outputs": [
    {
     "data": {
      "text/plain": "21.1"
     },
     "execution_count": 37,
     "metadata": {},
     "output_type": "execute_result"
    }
   ],
   "source": [
    "speciesMax = df.loc[filter_NAN_Is_Above_2007, 'bill_depth_mm'].max()\n",
    "speciesMax "
   ],
   "metadata": {
    "collapsed": false,
    "ExecuteTime": {
     "end_time": "2023-10-29T20:38:55.467086300Z",
     "start_time": "2023-10-29T20:38:55.444080800Z"
    }
   },
   "id": "1c63decc598442ce"
  },
  {
   "cell_type": "code",
   "execution_count": 38,
   "outputs": [
    {
     "data": {
      "text/plain": "21.5"
     },
     "execution_count": 38,
     "metadata": {},
     "output_type": "execute_result"
    }
   ],
   "source": [
    "speciesMax = df.loc[filter_NAN_Is_Not_Above_2007, 'bill_depth_mm'].max()\n",
    "speciesMax "
   ],
   "metadata": {
    "collapsed": false,
    "ExecuteTime": {
     "end_time": "2023-10-29T20:39:07.145320300Z",
     "start_time": "2023-10-29T20:39:07.116314700Z"
    }
   },
   "id": "fc995c72a35d33b5"
  },
  {
   "cell_type": "code",
   "execution_count": 40,
   "outputs": [
    {
     "data": {
      "text/plain": "<Figure size 640x480 with 1 Axes>",
      "image/png": "[encoded data removed]"
     },
     "metadata": {},
     "output_type": "display_data"
    }
   ],
   "source": [
    "import matplotlib.pyplot as plt \n",
    "\n",
    "x = df.loc[filter_NAN_Is_Not_Above_2007, 'island']\n",
    "y = df.loc[filter_NAN_Is_Not_Above_2007, 'body_mass_g']\n",
    "plt.xlabel('Island')\n",
    "plt.ylabel('Average Body_Mass_g')\n",
    "plt.bar(x,y)\n",
    "plt.show()"
   ],
   "metadata": {
    "collapsed": false,
    "ExecuteTime": {
     "end_time": "2023-10-29T20:43:13.102931900Z",
     "start_time": "2023-10-29T20:43:12.877877300Z"
    }
   },
   "id": "f98eca17f4dc8fe5"
  },
  {
   "cell_type": "code",
   "execution_count": null,
   "outputs": [],
   "source": [],
   "metadata": {
    "collapsed": false
   },
   "id": "ecf9c5b229b103e7"
  }
 ],
 "metadata": {
  "kernelspec": {
   "display_name": "Python 3",
   "language": "python",
   "name": "python3"
  },
  "language_info": {
   "codemirror_mode": {
    "name": "ipython",
    "version": 2
   },
   "file_extension": ".py",
   "mimetype": "text/x-python",
   "name": "python",
   "nbconvert_exporter": "python",
   "pygments_lexer": "ipython2",
   "version": "2.7.6"
  }
 },
 "nbformat": 4,
 "nbformat_minor": 5
}
